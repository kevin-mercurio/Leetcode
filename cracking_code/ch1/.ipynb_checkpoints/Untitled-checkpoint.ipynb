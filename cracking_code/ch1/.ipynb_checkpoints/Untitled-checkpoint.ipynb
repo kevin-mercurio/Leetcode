{
 "cells": [
  {
   "cell_type": "code",
   "execution_count": 19,
   "metadata": {},
   "outputs": [],
   "source": [
    "import unittest\n",
    "\n",
    "class Test(unittest.TestCase):\n",
    "\n",
    "    def test_compressed(self):\n",
    "\n",
    "        assert(False)\n",
    "\n",
    "\n",
    "    \n",
    "def compress_string(s):\n",
    "    \n",
    "    counter = 0\n",
    "    compressed_s = []\n",
    "    for i, char in enumerate(s):\n",
    "        counter += 1\n",
    "        if (i >= len(s) - 1) or (s[i+1] != char):\n",
    "            compressed_s.append(char)\n",
    "            compressed_s.append(str(counter))\n",
    "            counter = 0\n",
    "    return s if len(s) <= len(compressed_s) else ''.join(compressed_s)"
   ]
  },
  {
   "cell_type": "code",
   "execution_count": 20,
   "metadata": {},
   "outputs": [
    {
     "data": {
      "text/plain": [
       "'a3b1c4a2'"
      ]
     },
     "execution_count": 20,
     "metadata": {},
     "output_type": "execute_result"
    }
   ],
   "source": [
    "compress_string('aaabccccaa')"
   ]
  },
  {
   "cell_type": "code",
   "execution_count": 21,
   "metadata": {},
   "outputs": [
    {
     "ename": "AssertionError",
     "evalue": "",
     "output_type": "error",
     "traceback": [
      "\u001b[0;31m---------------------------------------------------------------------------\u001b[0m",
      "\u001b[0;31mAssertionError\u001b[0m                            Traceback (most recent call last)",
      "\u001b[0;32m<ipython-input-21-79c601ab03e5>\u001b[0m in \u001b[0;36m<module>\u001b[0;34m()\u001b[0m\n\u001b[0;32m----> 1\u001b[0;31m \u001b[0mprint\u001b[0m\u001b[0;34m(\u001b[0m\u001b[0mTest\u001b[0m\u001b[0;34m.\u001b[0m\u001b[0mtest_compressed\u001b[0m\u001b[0;34m(\u001b[0m\u001b[0;34m'aaabccccaa'\u001b[0m\u001b[0;34m)\u001b[0m\u001b[0;34m)\u001b[0m\u001b[0;34m\u001b[0m\u001b[0m\n\u001b[0m",
      "\u001b[0;32m<ipython-input-19-241706c0e74f>\u001b[0m in \u001b[0;36mtest_compressed\u001b[0;34m(self)\u001b[0m\n\u001b[1;32m      5\u001b[0m     \u001b[0;32mdef\u001b[0m \u001b[0mtest_compressed\u001b[0m\u001b[0;34m(\u001b[0m\u001b[0mself\u001b[0m\u001b[0;34m)\u001b[0m\u001b[0;34m:\u001b[0m\u001b[0;34m\u001b[0m\u001b[0m\n\u001b[1;32m      6\u001b[0m \u001b[0;34m\u001b[0m\u001b[0m\n\u001b[0;32m----> 7\u001b[0;31m         \u001b[0;32massert\u001b[0m\u001b[0;34m(\u001b[0m\u001b[0;32mFalse\u001b[0m\u001b[0;34m)\u001b[0m\u001b[0;34m\u001b[0m\u001b[0m\n\u001b[0m\u001b[1;32m      8\u001b[0m \u001b[0;34m\u001b[0m\u001b[0m\n\u001b[1;32m      9\u001b[0m \u001b[0;34m\u001b[0m\u001b[0m\n",
      "\u001b[0;31mAssertionError\u001b[0m: "
     ]
    }
   ],
   "source": [
    "print(Test.test_compressed('aaabccccaa'))"
   ]
  },
  {
   "cell_type": "code",
   "execution_count": 33,
   "metadata": {},
   "outputs": [],
   "source": [
    "class zero_matrix:\n",
    "    \n",
    "    def __init__(self, m):\n",
    "        self.m = m\n",
    "        self.rows_w_zero = []\n",
    "        self.cols_w_zero = []\n",
    "               \n",
    "    def print_m(self):\n",
    "        print(self.m)\n",
    "        \n",
    "    def _find_zeroes(self):\n",
    "        for i in range(0,len(self.m)):\n",
    "            for j in range(0,len(self.m[i])):\n",
    "                if self.m[i][j] == 0:\n",
    "                    self.rows_w_zero.append(i)\n",
    "                    self.cols_w_zero.append(j)\n",
    "\n",
    "    def replace_row(self, i):\n",
    "        #given a row i, replace all elements of that row (each col)\n",
    "        for j in range(0,len(self.m[i])):\n",
    "            self.m[i][j] = 0\n",
    "            \n",
    "    def replace_col(self, j)\n",
    "        for i in range(0,len(self.m)):\n",
    "            self.m[i][j] = 0\n",
    "            \n",
    "    def replace_zeroes(self):\n",
    "        #find the zeroes\n",
    "        self._find_zeroes()\n",
    "        print(self.rows_w_zero, self.cols_w_zero)\n",
    "        #replace them\n",
    "        #rows\n",
    "        for i in self.rows_w_zero:\n",
    "            replace_row(i)\n",
    "            \n",
    "        for j in self.cols_w_zero:\n",
    "            replace_col(j)\n",
    "\n",
    "        return self.m"
   ]
  },
  {
   "cell_type": "code",
   "execution_count": 34,
   "metadata": {},
   "outputs": [],
   "source": [
    "zm = zero_matrix(m=[[0,1,2], [1,1,0], [1,1,1]])"
   ]
  },
  {
   "cell_type": "code",
   "execution_count": 35,
   "metadata": {},
   "outputs": [
    {
     "name": "stdout",
     "output_type": "stream",
     "text": [
      "[0, 1] [0, 2]\n"
     ]
    }
   ],
   "source": [
    "zm.replace_zeroes()"
   ]
  },
  {
   "cell_type": "code",
   "execution_count": null,
   "metadata": {
    "collapsed": true
   },
   "outputs": [],
   "source": []
  }
 ],
 "metadata": {
  "kernelspec": {
   "display_name": "Python 3",
   "language": "python",
   "name": "python3"
  },
  "language_info": {
   "codemirror_mode": {
    "name": "ipython",
    "version": 3
   },
   "file_extension": ".py",
   "mimetype": "text/x-python",
   "name": "python",
   "nbconvert_exporter": "python",
   "pygments_lexer": "ipython3",
   "version": "3.6.1"
  }
 },
 "nbformat": 4,
 "nbformat_minor": 2
}

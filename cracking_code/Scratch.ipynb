{
 "cells": [
  {
   "cell_type": "code",
   "execution_count": 7,
   "metadata": {
    "collapsed": true
   },
   "outputs": [],
   "source": [
    "m = [[0,1,2], [1,1,0], [1,1,1]]"
   ]
  },
  {
   "cell_type": "code",
   "execution_count": 8,
   "metadata": {},
   "outputs": [
    {
     "data": {
      "text/plain": [
       "[[0, 1, 2], [1, 1, 0], [1, 1, 1]]"
      ]
     },
     "execution_count": 8,
     "metadata": {},
     "output_type": "execute_result"
    }
   ],
   "source": [
    "#find rows and cols that have"
   ]
  },
  {
   "cell_type": "code",
   "execution_count": 19,
   "metadata": {},
   "outputs": [],
   "source": [
    "def fill_zeros(matrix):\n",
    "    rows, cols = [],[]\n",
    "    for i in range(0,len(m)):\n",
    "        for j in range(0,len(m[i])):\n",
    "            if m[i][j] == 0:\n",
    "                rows.append(i)\n",
    "                cols.append(j)\n",
    "    print(matrix)\n",
    "    print(rows, cols)\n",
    "\n",
    "    #for rows and cols that have a zero, replace the entries with zero\n",
    "    for i in rows:\n",
    "        for j in range(0,len(m[i])):\n",
    "            m[i][j] = 0\n",
    "            \n",
    "    print(matrix)\n",
    "    for j in cols:\n",
    "        for i in range(0,len(m)):\n",
    "            m[i][j] = 0\n",
    "\n",
    "    print(matrix)"
   ]
  },
  {
   "cell_type": "code",
   "execution_count": 20,
   "metadata": {},
   "outputs": [
    {
     "name": "stdout",
     "output_type": "stream",
     "text": [
      "[[0, 1, 2], [1, 1, 0], [1, 1, 1]]\n",
      "[0, 1] [0, 2]\n",
      "[[0, 0, 0], [0, 0, 0], [1, 1, 1]]\n",
      "[[0, 0, 0], [0, 0, 0], [0, 1, 0]]\n"
     ]
    }
   ],
   "source": [
    "fill_zeros(m)"
   ]
  },
  {
   "cell_type": "code",
   "execution_count": 56,
   "metadata": {},
   "outputs": [],
   "source": [
    "class fibber():\n",
    "    \n",
    "    def __init__(self):\n",
    "        self.memo = {}\n",
    "\n",
    "    def get_fib(self,n):\n",
    "        if n < 0:\n",
    "            raise Exception('Please use a positive integer') \n",
    "        if n <= 1:\n",
    "            return 1\n",
    "        \n",
    "        if n in self.memo:\n",
    "            return self.memo[n]\n",
    "        \n",
    "        else:\n",
    "            result = self.get_fib(n-1) + self.get_fib(n-2)\n",
    "            self.memo[n] = result\n",
    "\n",
    "        return result"
   ]
  },
  {
   "cell_type": "code",
   "execution_count": 57,
   "metadata": {},
   "outputs": [],
   "source": [
    "fib = fibber()"
   ]
  },
  {
   "cell_type": "code",
   "execution_count": 58,
   "metadata": {},
   "outputs": [
    {
     "data": {
      "text/plain": [
       "55"
      ]
     },
     "execution_count": 58,
     "metadata": {},
     "output_type": "execute_result"
    }
   ],
   "source": [
    "fib.get_fib(9)"
   ]
  },
  {
   "cell_type": "code",
   "execution_count": 87,
   "metadata": {},
   "outputs": [
    {
     "name": "stdout",
     "output_type": "stream",
     "text": [
      "0 0\n",
      "a a\n",
      "match a\n",
      "0 1\n",
      "1 1\n",
      "b b\n",
      "match b\n",
      "1 2\n",
      "b b\n",
      "match bb\n",
      "a a\n",
      "match abba\n",
      "2 2\n",
      "b b\n",
      "match b\n",
      "2 3\n",
      "3 3\n",
      "a a\n",
      "match a\n",
      "b b\n",
      "match bab\n",
      "3 4\n",
      "4 4\n",
      "b b\n",
      "match b\n",
      "a a\n",
      "match aba\n",
      "4 5\n",
      "5 5\n",
      "a a\n",
      "match a\n"
     ]
    },
    {
     "data": {
      "text/plain": [
       "{'a', 'aba', 'abba', 'b', 'bab', 'bb'}"
      ]
     },
     "execution_count": 87,
     "metadata": {},
     "output_type": "execute_result"
    }
   ],
   "source": [
    "#find all palindromic substrings\n",
    "#need to start at a pivot point(which can be a char or between chars),\n",
    "#then expand search if the substring is a palindrome\n",
    "\n",
    "word = 'abbaba'\n",
    "n = len(word)\n",
    "result = set()\n",
    "\n",
    "for center in range(2*n-1):\n",
    "    left = center//2\n",
    "    right = left + center % 2\n",
    "    print(left, right)\n",
    "    while left >= 0 and right < n and word[left]==word[right]:\n",
    "        print(word[left], word[right])\n",
    "        print('match', word[left:right+1])\n",
    "        result.add(word[left:right+1])\n",
    "        left -= 1\n",
    "        right +=1\n",
    "\n",
    "result\n",
    "    "
   ]
  },
  {
   "cell_type": "code",
   "execution_count": 82,
   "metadata": {},
   "outputs": [
    {
     "data": {
      "text/plain": [
       "'b'"
      ]
     },
     "execution_count": 82,
     "metadata": {},
     "output_type": "execute_result"
    }
   ],
   "source": [
    "word[2:2+1]"
   ]
  },
  {
   "cell_type": "code",
   "execution_count": null,
   "metadata": {
    "collapsed": true
   },
   "outputs": [],
   "source": []
  }
 ],
 "metadata": {
  "kernelspec": {
   "display_name": "Python 3",
   "language": "python",
   "name": "python3"
  },
  "language_info": {
   "codemirror_mode": {
    "name": "ipython",
    "version": 3
   },
   "file_extension": ".py",
   "mimetype": "text/x-python",
   "name": "python",
   "nbconvert_exporter": "python",
   "pygments_lexer": "ipython3",
   "version": "3.6.1"
  }
 },
 "nbformat": 4,
 "nbformat_minor": 2
}
